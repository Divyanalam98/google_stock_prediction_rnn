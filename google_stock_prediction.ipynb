{
  "nbformat": 4,
  "nbformat_minor": 0,
  "metadata": {
    "colab": {
      "provenance": []
    },
    "kernelspec": {
      "name": "python3",
      "display_name": "Python 3"
    },
    "language_info": {
      "name": "python"
    }
  },
  "cells": [
    {
      "cell_type": "code",
      "execution_count": 3,
      "metadata": {
        "colab": {
          "base_uri": "https://localhost:8080/"
        },
        "id": "I83-aFo9A54W",
        "outputId": "249f2bf1-264f-439a-fcec-d0cb14cdbc73"
      },
      "outputs": [
        {
          "output_type": "stream",
          "name": "stdout",
          "text": [
            "Mounted at /content/gdrive/\n"
          ]
        }
      ],
      "source": [
        "from google.colab import drive\n",
        "\n",
        "drive.mount('/content/gdrive/', force_remount=True)"
      ]
    },
    {
      "cell_type": "code",
      "source": [
        "import matplotlib.pyplot as plt\n",
        "import keras\n",
        "import pandas as pd\n",
        "import numpy as np\n",
        "from keras.models import Sequential\n",
        "from keras.layers import Dense\n",
        "from keras.layers import LSTM\n",
        "from keras.layers import Dropout\n",
        "from sklearn.preprocessing import MinMaxScaler\n",
        "from sklearn.metrics import mean_squared_error\n",
        "from sklearn.metrics import mean_absolute_error\n",
        "from sklearn.model_selection import train_test_split\n",
        "from keras.callbacks import EarlyStopping\n",
        "import matplotlib.dates as mdates "
      ],
      "metadata": {
        "id": "Fa_gQTSSDLXn"
      },
      "execution_count": 4,
      "outputs": []
    },
    {
      "cell_type": "code",
      "source": [
        "df=pd.read_csv(\"/content/gdrive/MyDrive/Google_Stock_Price_Train.csv\")\n",
        "print('Number of rows and columns:', df.shape)\n",
        "df.head(5)"
      ],
      "metadata": {
        "colab": {
          "base_uri": "https://localhost:8080/",
          "height": 223
        },
        "id": "OxLqfT2ZDPvK",
        "outputId": "9c3fa7ae-5cc2-4ca5-efac-7a4fc7ea4534"
      },
      "execution_count": 5,
      "outputs": [
        {
          "output_type": "stream",
          "name": "stdout",
          "text": [
            "Number of rows and columns: (1258, 6)\n"
          ]
        },
        {
          "output_type": "execute_result",
          "data": {
            "text/plain": [
              "       Date    Open    High     Low   Close      Volume\n",
              "0  1/3/2012  325.25  332.83  324.97  663.59   7,380,500\n",
              "1  1/4/2012  331.27  333.87  329.08  666.45   5,749,400\n",
              "2  1/5/2012  329.83  330.75  326.89  657.21   6,590,300\n",
              "3  1/6/2012  328.34  328.77  323.68  648.24   5,405,900\n",
              "4  1/9/2012  322.04  322.29  309.46  620.76  11,688,800"
            ],
            "text/html": [
              "\n",
              "  <div id=\"df-d682380d-92fc-42b4-b3f7-2b80e7804e88\">\n",
              "    <div class=\"colab-df-container\">\n",
              "      <div>\n",
              "<style scoped>\n",
              "    .dataframe tbody tr th:only-of-type {\n",
              "        vertical-align: middle;\n",
              "    }\n",
              "\n",
              "    .dataframe tbody tr th {\n",
              "        vertical-align: top;\n",
              "    }\n",
              "\n",
              "    .dataframe thead th {\n",
              "        text-align: right;\n",
              "    }\n",
              "</style>\n",
              "<table border=\"1\" class=\"dataframe\">\n",
              "  <thead>\n",
              "    <tr style=\"text-align: right;\">\n",
              "      <th></th>\n",
              "      <th>Date</th>\n",
              "      <th>Open</th>\n",
              "      <th>High</th>\n",
              "      <th>Low</th>\n",
              "      <th>Close</th>\n",
              "      <th>Volume</th>\n",
              "    </tr>\n",
              "  </thead>\n",
              "  <tbody>\n",
              "    <tr>\n",
              "      <th>0</th>\n",
              "      <td>1/3/2012</td>\n",
              "      <td>325.25</td>\n",
              "      <td>332.83</td>\n",
              "      <td>324.97</td>\n",
              "      <td>663.59</td>\n",
              "      <td>7,380,500</td>\n",
              "    </tr>\n",
              "    <tr>\n",
              "      <th>1</th>\n",
              "      <td>1/4/2012</td>\n",
              "      <td>331.27</td>\n",
              "      <td>333.87</td>\n",
              "      <td>329.08</td>\n",
              "      <td>666.45</td>\n",
              "      <td>5,749,400</td>\n",
              "    </tr>\n",
              "    <tr>\n",
              "      <th>2</th>\n",
              "      <td>1/5/2012</td>\n",
              "      <td>329.83</td>\n",
              "      <td>330.75</td>\n",
              "      <td>326.89</td>\n",
              "      <td>657.21</td>\n",
              "      <td>6,590,300</td>\n",
              "    </tr>\n",
              "    <tr>\n",
              "      <th>3</th>\n",
              "      <td>1/6/2012</td>\n",
              "      <td>328.34</td>\n",
              "      <td>328.77</td>\n",
              "      <td>323.68</td>\n",
              "      <td>648.24</td>\n",
              "      <td>5,405,900</td>\n",
              "    </tr>\n",
              "    <tr>\n",
              "      <th>4</th>\n",
              "      <td>1/9/2012</td>\n",
              "      <td>322.04</td>\n",
              "      <td>322.29</td>\n",
              "      <td>309.46</td>\n",
              "      <td>620.76</td>\n",
              "      <td>11,688,800</td>\n",
              "    </tr>\n",
              "  </tbody>\n",
              "</table>\n",
              "</div>\n",
              "      <button class=\"colab-df-convert\" onclick=\"convertToInteractive('df-d682380d-92fc-42b4-b3f7-2b80e7804e88')\"\n",
              "              title=\"Convert this dataframe to an interactive table.\"\n",
              "              style=\"display:none;\">\n",
              "        \n",
              "  <svg xmlns=\"http://www.w3.org/2000/svg\" height=\"24px\"viewBox=\"0 0 24 24\"\n",
              "       width=\"24px\">\n",
              "    <path d=\"M0 0h24v24H0V0z\" fill=\"none\"/>\n",
              "    <path d=\"M18.56 5.44l.94 2.06.94-2.06 2.06-.94-2.06-.94-.94-2.06-.94 2.06-2.06.94zm-11 1L8.5 8.5l.94-2.06 2.06-.94-2.06-.94L8.5 2.5l-.94 2.06-2.06.94zm10 10l.94 2.06.94-2.06 2.06-.94-2.06-.94-.94-2.06-.94 2.06-2.06.94z\"/><path d=\"M17.41 7.96l-1.37-1.37c-.4-.4-.92-.59-1.43-.59-.52 0-1.04.2-1.43.59L10.3 9.45l-7.72 7.72c-.78.78-.78 2.05 0 2.83L4 21.41c.39.39.9.59 1.41.59.51 0 1.02-.2 1.41-.59l7.78-7.78 2.81-2.81c.8-.78.8-2.07 0-2.86zM5.41 20L4 18.59l7.72-7.72 1.47 1.35L5.41 20z\"/>\n",
              "  </svg>\n",
              "      </button>\n",
              "      \n",
              "  <style>\n",
              "    .colab-df-container {\n",
              "      display:flex;\n",
              "      flex-wrap:wrap;\n",
              "      gap: 12px;\n",
              "    }\n",
              "\n",
              "    .colab-df-convert {\n",
              "      background-color: #E8F0FE;\n",
              "      border: none;\n",
              "      border-radius: 50%;\n",
              "      cursor: pointer;\n",
              "      display: none;\n",
              "      fill: #1967D2;\n",
              "      height: 32px;\n",
              "      padding: 0 0 0 0;\n",
              "      width: 32px;\n",
              "    }\n",
              "\n",
              "    .colab-df-convert:hover {\n",
              "      background-color: #E2EBFA;\n",
              "      box-shadow: 0px 1px 2px rgba(60, 64, 67, 0.3), 0px 1px 3px 1px rgba(60, 64, 67, 0.15);\n",
              "      fill: #174EA6;\n",
              "    }\n",
              "\n",
              "    [theme=dark] .colab-df-convert {\n",
              "      background-color: #3B4455;\n",
              "      fill: #D2E3FC;\n",
              "    }\n",
              "\n",
              "    [theme=dark] .colab-df-convert:hover {\n",
              "      background-color: #434B5C;\n",
              "      box-shadow: 0px 1px 3px 1px rgba(0, 0, 0, 0.15);\n",
              "      filter: drop-shadow(0px 1px 2px rgba(0, 0, 0, 0.3));\n",
              "      fill: #FFFFFF;\n",
              "    }\n",
              "  </style>\n",
              "\n",
              "      <script>\n",
              "        const buttonEl =\n",
              "          document.querySelector('#df-d682380d-92fc-42b4-b3f7-2b80e7804e88 button.colab-df-convert');\n",
              "        buttonEl.style.display =\n",
              "          google.colab.kernel.accessAllowed ? 'block' : 'none';\n",
              "\n",
              "        async function convertToInteractive(key) {\n",
              "          const element = document.querySelector('#df-d682380d-92fc-42b4-b3f7-2b80e7804e88');\n",
              "          const dataTable =\n",
              "            await google.colab.kernel.invokeFunction('convertToInteractive',\n",
              "                                                     [key], {});\n",
              "          if (!dataTable) return;\n",
              "\n",
              "          const docLinkHtml = 'Like what you see? Visit the ' +\n",
              "            '<a target=\"_blank\" href=https://colab.research.google.com/notebooks/data_table.ipynb>data table notebook</a>'\n",
              "            + ' to learn more about interactive tables.';\n",
              "          element.innerHTML = '';\n",
              "          dataTable['output_type'] = 'display_data';\n",
              "          await google.colab.output.renderOutput(dataTable, element);\n",
              "          const docLink = document.createElement('div');\n",
              "          docLink.innerHTML = docLinkHtml;\n",
              "          element.appendChild(docLink);\n",
              "        }\n",
              "      </script>\n",
              "    </div>\n",
              "  </div>\n",
              "  "
            ]
          },
          "metadata": {},
          "execution_count": 5
        }
      ]
    },
    {
      "cell_type": "code",
      "source": [
        "df['Date'] = pd.to_datetime(df['Date'], format='%m/%d/%Y')"
      ],
      "metadata": {
        "id": "tWG38DJVDbkw"
      },
      "execution_count": 6,
      "outputs": []
    },
    {
      "cell_type": "code",
      "source": [
        "df.shape # 80% of 1258 is 1006."
      ],
      "metadata": {
        "colab": {
          "base_uri": "https://localhost:8080/"
        },
        "id": "L8ZK2NfED-RB",
        "outputId": "4fc48850-48eb-41e3-d415-e7cfa76f885c"
      },
      "execution_count": 7,
      "outputs": [
        {
          "output_type": "execute_result",
          "data": {
            "text/plain": [
              "(1258, 6)"
            ]
          },
          "metadata": {},
          "execution_count": 7
        }
      ]
    },
    {
      "cell_type": "code",
      "source": [
        "training_set = df.iloc[:1006, 1:2].values\n",
        "test_set = df.iloc[1006:, 1:2].values"
      ],
      "metadata": {
        "id": "4sMaVwG0ESzd"
      },
      "execution_count": 8,
      "outputs": []
    },
    {
      "cell_type": "code",
      "source": [
        "# Feature Scaling\n",
        "sc = MinMaxScaler(feature_range = (0, 1))\n",
        "training_set_scaled = sc.fit_transform(training_set)\n",
        "# Creating a data structure with 60 time-steps and 1 output\n",
        "X_train = []\n",
        "y_train = []\n",
        "for i in range(60, 1006):\n",
        "    X_train.append(training_set_scaled[i-60:i, 0])\n",
        "    y_train.append(training_set_scaled[i, 0])\n",
        "X_train, y_train = np.array(X_train), np.array(y_train)\n",
        "X_train = np.reshape(X_train, (X_train.shape[0], X_train.shape[1], 1))\n",
        "print(X_train.shape)\n"
      ],
      "metadata": {
        "colab": {
          "base_uri": "https://localhost:8080/"
        },
        "id": "_4IvGJjcEZ0v",
        "outputId": "23c525d2-8047-4e61-d01b-b5f188657f0f"
      },
      "execution_count": 9,
      "outputs": [
        {
          "output_type": "stream",
          "name": "stdout",
          "text": [
            "(946, 60, 1)\n"
          ]
        }
      ]
    },
    {
      "cell_type": "code",
      "source": [
        "model = Sequential()\n",
        "#Adding the first LSTM layer and some Dropout regularisation\n",
        "model.add(LSTM(units = 50, return_sequences = True, input_shape = (X_train.shape[1], 1)))\n",
        "model.add(Dropout(0.2))\n",
        "# Adding a second LSTM layer and some Dropout regularisation\n",
        "model.add(LSTM(units = 50, return_sequences = True))\n",
        "model.add(Dropout(0.2))\n",
        "# Adding a third LSTM layer and some Dropout regularisation\n",
        "model.add(LSTM(units = 50, return_sequences = True))\n",
        "model.add(Dropout(0.2))\n",
        "# Adding a fourth LSTM layer and some Dropout regularisation\n",
        "model.add(LSTM(units = 50))\n",
        "model.add(Dropout(0.2))\n",
        "# Adding the output layer\n",
        "model.add(Dense(units = 1))\n",
        "\n",
        "# Compiling the RNN\n",
        "model.compile(optimizer = 'adam', loss = 'mean_squared_error')\n",
        "\n",
        "# Fitting the RNN to the Training set\n",
        "model.fit(X_train, y_train, epochs = 100, batch_size = 32)\n"
      ],
      "metadata": {
        "colab": {
          "base_uri": "https://localhost:8080/"
        },
        "id": "pPZ18AnkEuyD",
        "outputId": "40554835-b37d-49e1-cabc-e54901a82b7a"
      },
      "execution_count": 10,
      "outputs": [
        {
          "output_type": "stream",
          "name": "stdout",
          "text": [
            "Epoch 1/100\n",
            "30/30 [==============================] - 14s 179ms/step - loss: 0.0436\n",
            "Epoch 2/100\n",
            "30/30 [==============================] - 4s 123ms/step - loss: 0.0070\n",
            "Epoch 3/100\n",
            "30/30 [==============================] - 4s 121ms/step - loss: 0.0056\n",
            "Epoch 4/100\n",
            "30/30 [==============================] - 5s 178ms/step - loss: 0.0051\n",
            "Epoch 5/100\n",
            "30/30 [==============================] - 4s 126ms/step - loss: 0.0044\n",
            "Epoch 6/100\n",
            "30/30 [==============================] - 4s 121ms/step - loss: 0.0042\n",
            "Epoch 7/100\n",
            "30/30 [==============================] - 4s 146ms/step - loss: 0.0043\n",
            "Epoch 8/100\n",
            "30/30 [==============================] - 5s 160ms/step - loss: 0.0048\n",
            "Epoch 9/100\n",
            "30/30 [==============================] - 4s 121ms/step - loss: 0.0040\n",
            "Epoch 10/100\n",
            "30/30 [==============================] - 4s 122ms/step - loss: 0.0040\n",
            "Epoch 11/100\n",
            "30/30 [==============================] - 5s 182ms/step - loss: 0.0044\n",
            "Epoch 12/100\n",
            "30/30 [==============================] - 4s 122ms/step - loss: 0.0035\n",
            "Epoch 13/100\n",
            "30/30 [==============================] - 4s 122ms/step - loss: 0.0036\n",
            "Epoch 14/100\n",
            "30/30 [==============================] - 5s 155ms/step - loss: 0.0038\n",
            "Epoch 15/100\n",
            "30/30 [==============================] - 5s 163ms/step - loss: 0.0036\n",
            "Epoch 16/100\n",
            "30/30 [==============================] - 4s 150ms/step - loss: 0.0032\n",
            "Epoch 17/100\n",
            "30/30 [==============================] - 4s 145ms/step - loss: 0.0032\n",
            "Epoch 18/100\n",
            "30/30 [==============================] - 5s 157ms/step - loss: 0.0037\n",
            "Epoch 19/100\n",
            "30/30 [==============================] - 4s 124ms/step - loss: 0.0034\n",
            "Epoch 20/100\n",
            "30/30 [==============================] - 4s 122ms/step - loss: 0.0032\n",
            "Epoch 21/100\n",
            "30/30 [==============================] - 6s 186ms/step - loss: 0.0031\n",
            "Epoch 22/100\n",
            "30/30 [==============================] - 4s 122ms/step - loss: 0.0034\n",
            "Epoch 23/100\n",
            "30/30 [==============================] - 4s 140ms/step - loss: 0.0027\n",
            "Epoch 24/100\n",
            "30/30 [==============================] - 5s 170ms/step - loss: 0.0032\n",
            "Epoch 25/100\n",
            "30/30 [==============================] - 4s 132ms/step - loss: 0.0031\n",
            "Epoch 26/100\n",
            "30/30 [==============================] - 4s 122ms/step - loss: 0.0030\n",
            "Epoch 27/100\n",
            "30/30 [==============================] - 4s 151ms/step - loss: 0.0030\n",
            "Epoch 28/100\n",
            "30/30 [==============================] - 6s 182ms/step - loss: 0.0035\n",
            "Epoch 29/100\n",
            "30/30 [==============================] - 4s 122ms/step - loss: 0.0031\n",
            "Epoch 30/100\n",
            "30/30 [==============================] - 4s 122ms/step - loss: 0.0027\n",
            "Epoch 31/100\n",
            "30/30 [==============================] - 5s 185ms/step - loss: 0.0028\n",
            "Epoch 32/100\n",
            "30/30 [==============================] - 4s 122ms/step - loss: 0.0027\n",
            "Epoch 33/100\n",
            "30/30 [==============================] - 4s 124ms/step - loss: 0.0026\n",
            "Epoch 34/100\n",
            "30/30 [==============================] - 5s 161ms/step - loss: 0.0028\n",
            "Epoch 35/100\n",
            "30/30 [==============================] - 4s 141ms/step - loss: 0.0026\n",
            "Epoch 36/100\n",
            "30/30 [==============================] - 4s 124ms/step - loss: 0.0024\n",
            "Epoch 37/100\n",
            "30/30 [==============================] - 4s 126ms/step - loss: 0.0025\n",
            "Epoch 38/100\n",
            "30/30 [==============================] - 5s 177ms/step - loss: 0.0027\n",
            "Epoch 39/100\n",
            "30/30 [==============================] - 4s 121ms/step - loss: 0.0025\n",
            "Epoch 40/100\n",
            "30/30 [==============================] - 4s 122ms/step - loss: 0.0021\n",
            "Epoch 41/100\n",
            "30/30 [==============================] - 7s 240ms/step - loss: 0.0022\n",
            "Epoch 42/100\n",
            "30/30 [==============================] - 4s 122ms/step - loss: 0.0025\n",
            "Epoch 43/100\n",
            "30/30 [==============================] - 4s 123ms/step - loss: 0.0023\n",
            "Epoch 44/100\n",
            "30/30 [==============================] - 4s 143ms/step - loss: 0.0022\n",
            "Epoch 45/100\n",
            "30/30 [==============================] - 5s 160ms/step - loss: 0.0023\n",
            "Epoch 46/100\n",
            "30/30 [==============================] - 4s 123ms/step - loss: 0.0025\n",
            "Epoch 47/100\n",
            "30/30 [==============================] - 4s 125ms/step - loss: 0.0023\n",
            "Epoch 48/100\n",
            "30/30 [==============================] - 5s 185ms/step - loss: 0.0024\n",
            "Epoch 49/100\n",
            "30/30 [==============================] - 4s 125ms/step - loss: 0.0021\n",
            "Epoch 50/100\n",
            "30/30 [==============================] - 4s 124ms/step - loss: 0.0021\n",
            "Epoch 51/100\n",
            "30/30 [==============================] - 5s 167ms/step - loss: 0.0023\n",
            "Epoch 52/100\n",
            "30/30 [==============================] - 4s 138ms/step - loss: 0.0022\n",
            "Epoch 53/100\n",
            "30/30 [==============================] - 4s 121ms/step - loss: 0.0027\n",
            "Epoch 54/100\n",
            "30/30 [==============================] - 4s 127ms/step - loss: 0.0022\n",
            "Epoch 55/100\n",
            "30/30 [==============================] - 5s 175ms/step - loss: 0.0023\n",
            "Epoch 56/100\n",
            "30/30 [==============================] - 4s 123ms/step - loss: 0.0023\n",
            "Epoch 57/100\n",
            "30/30 [==============================] - 4s 123ms/step - loss: 0.0024\n",
            "Epoch 58/100\n",
            "30/30 [==============================] - 5s 180ms/step - loss: 0.0022\n",
            "Epoch 59/100\n",
            "30/30 [==============================] - 4s 123ms/step - loss: 0.0019\n",
            "Epoch 60/100\n",
            "30/30 [==============================] - 4s 122ms/step - loss: 0.0019\n",
            "Epoch 61/100\n",
            "30/30 [==============================] - 4s 143ms/step - loss: 0.0019\n",
            "Epoch 62/100\n",
            "30/30 [==============================] - 5s 161ms/step - loss: 0.0019\n",
            "Epoch 63/100\n",
            "30/30 [==============================] - 4s 123ms/step - loss: 0.0023\n",
            "Epoch 64/100\n",
            "30/30 [==============================] - 4s 122ms/step - loss: 0.0020\n",
            "Epoch 65/100\n",
            "30/30 [==============================] - 6s 186ms/step - loss: 0.0020\n",
            "Epoch 66/100\n",
            "30/30 [==============================] - 4s 120ms/step - loss: 0.0018\n",
            "Epoch 67/100\n",
            "30/30 [==============================] - 4s 121ms/step - loss: 0.0018\n",
            "Epoch 68/100\n",
            "30/30 [==============================] - 4s 150ms/step - loss: 0.0018\n",
            "Epoch 69/100\n",
            "30/30 [==============================] - 5s 152ms/step - loss: 0.0018\n",
            "Epoch 70/100\n",
            "30/30 [==============================] - 4s 123ms/step - loss: 0.0019\n",
            "Epoch 71/100\n",
            "30/30 [==============================] - 4s 121ms/step - loss: 0.0020\n",
            "Epoch 72/100\n",
            "30/30 [==============================] - 6s 187ms/step - loss: 0.0018\n",
            "Epoch 73/100\n",
            "30/30 [==============================] - 4s 123ms/step - loss: 0.0018\n",
            "Epoch 74/100\n",
            "30/30 [==============================] - 4s 122ms/step - loss: 0.0018\n",
            "Epoch 75/100\n",
            "30/30 [==============================] - 5s 171ms/step - loss: 0.0018\n",
            "Epoch 76/100\n",
            "30/30 [==============================] - 4s 137ms/step - loss: 0.0017\n",
            "Epoch 77/100\n",
            "30/30 [==============================] - 4s 126ms/step - loss: 0.0016\n",
            "Epoch 78/100\n",
            "30/30 [==============================] - 4s 134ms/step - loss: 0.0017\n",
            "Epoch 79/100\n",
            "30/30 [==============================] - 5s 171ms/step - loss: 0.0019\n",
            "Epoch 80/100\n",
            "30/30 [==============================] - 4s 124ms/step - loss: 0.0016\n",
            "Epoch 81/100\n",
            "30/30 [==============================] - 4s 123ms/step - loss: 0.0016\n",
            "Epoch 82/100\n",
            "30/30 [==============================] - 6s 186ms/step - loss: 0.0014\n",
            "Epoch 83/100\n",
            "30/30 [==============================] - 4s 123ms/step - loss: 0.0016\n",
            "Epoch 84/100\n",
            "30/30 [==============================] - 4s 124ms/step - loss: 0.0014\n",
            "Epoch 85/100\n",
            "30/30 [==============================] - 4s 149ms/step - loss: 0.0016\n",
            "Epoch 86/100\n",
            "30/30 [==============================] - 5s 155ms/step - loss: 0.0014\n",
            "Epoch 87/100\n",
            "30/30 [==============================] - 4s 123ms/step - loss: 0.0014\n",
            "Epoch 88/100\n",
            "30/30 [==============================] - 4s 121ms/step - loss: 0.0013\n",
            "Epoch 89/100\n",
            "30/30 [==============================] - 5s 184ms/step - loss: 0.0016\n",
            "Epoch 90/100\n",
            "30/30 [==============================] - 4s 122ms/step - loss: 0.0015\n",
            "Epoch 91/100\n",
            "30/30 [==============================] - 4s 122ms/step - loss: 0.0015\n",
            "Epoch 92/100\n",
            "30/30 [==============================] - 5s 161ms/step - loss: 0.0014\n",
            "Epoch 93/100\n",
            "30/30 [==============================] - 4s 142ms/step - loss: 0.0014\n",
            "Epoch 94/100\n",
            "30/30 [==============================] - 4s 124ms/step - loss: 0.0015\n",
            "Epoch 95/100\n",
            "30/30 [==============================] - 4s 124ms/step - loss: 0.0015\n",
            "Epoch 96/100\n",
            "30/30 [==============================] - 5s 180ms/step - loss: 0.0013\n",
            "Epoch 97/100\n",
            "30/30 [==============================] - 4s 122ms/step - loss: 0.0015\n",
            "Epoch 98/100\n",
            "30/30 [==============================] - 4s 122ms/step - loss: 0.0015\n",
            "Epoch 99/100\n",
            "30/30 [==============================] - 5s 176ms/step - loss: 0.0015\n",
            "Epoch 100/100\n",
            "30/30 [==============================] - 4s 128ms/step - loss: 0.0013\n"
          ]
        },
        {
          "output_type": "execute_result",
          "data": {
            "text/plain": [
              "<keras.callbacks.History at 0x7f30c0047460>"
            ]
          },
          "metadata": {},
          "execution_count": 10
        }
      ]
    },
    {
      "cell_type": "code",
      "source": [
        "dataset_train = df.iloc[:1006, 1:2]\n",
        "dataset_test = df.iloc[1006:, 1:2]\n",
        "dataset_total = pd.concat((dataset_train, dataset_test), axis = 0)\n",
        "inputs = dataset_total[len(dataset_total) - len(dataset_test) - 60:].values\n",
        "inputs = inputs.reshape(-1,1)\n",
        "inputs = sc.transform(inputs)\n",
        "X_test = []\n",
        "for i in range(60, 312):\n",
        "    X_test.append(inputs[i-60:i, 0])\n",
        "X_test = np.array(X_test)\n",
        "X_test = np.reshape(X_test, (X_test.shape[0], X_test.shape[1], 1))\n",
        "print(X_test.shape)"
      ],
      "metadata": {
        "colab": {
          "base_uri": "https://localhost:8080/"
        },
        "id": "CwmT6WxgGePv",
        "outputId": "e62543e5-2236-442d-a66e-52588b66178e"
      },
      "execution_count": 11,
      "outputs": [
        {
          "output_type": "stream",
          "name": "stdout",
          "text": [
            "(252, 60, 1)\n"
          ]
        }
      ]
    },
    {
      "cell_type": "code",
      "source": [
        "predicted_stock_price = model.predict(X_test)\n",
        "predicted_stock_price = sc.inverse_transform(predicted_stock_price)\n"
      ],
      "metadata": {
        "colab": {
          "base_uri": "https://localhost:8080/"
        },
        "id": "4iYQ0wrwOGRH",
        "outputId": "d89ab58e-460e-49ba-8425-3682125cc626"
      },
      "execution_count": 12,
      "outputs": [
        {
          "output_type": "stream",
          "name": "stdout",
          "text": [
            "8/8 [==============================] - 2s 47ms/step\n"
          ]
        }
      ]
    },
    {
      "cell_type": "code",
      "source": [
        "plt.plot(df.loc[1006:, 'Date'],dataset_test.values, color = 'red', label = 'Real Google Stock Price')\n",
        "plt.plot(df.loc[1006:, 'Date'],predicted_stock_price, color = 'blue', label = 'Predicted Google Stock Price')\n",
        "plt.title('Google Stock Price Prediction')\n",
        "plt.xlabel('Time')\n",
        "plt.ylabel('Google Stock Price')\n",
        "plt.legend()\n",
        "plt.show()"
      ],
      "metadata": {
        "colab": {
          "base_uri": "https://localhost:8080/",
          "height": 472
        },
        "id": "OjOZuwJJONMy",
        "outputId": "89a8e887-5bcb-4a18-b2f8-a54ad5e2804d"
      },
      "execution_count": 14,
      "outputs": [
        {
          "output_type": "display_data",
          "data": {
            "text/plain": [
              "<Figure size 640x480 with 1 Axes>"
            ],
            "image/png": "[encoded data removed]"
          },
          "metadata": {}
        }
      ]
    }
  ]
}